{
 "cells": [
  {
   "cell_type": "code",
   "execution_count": 5,
   "id": "18000cc5",
   "metadata": {},
   "outputs": [],
   "source": [
    "import matplotlib.pyplot as plt\n",
    "import numpy as np\n",
    "from scipy import stats\n",
    "import pandas as pd\n",
    "import env\n",
    "\n"
   ]
  },
  {
   "cell_type": "code",
   "execution_count": null,
   "id": "66206ff1",
   "metadata": {},
   "outputs": [],
   "source": [
    "#1 A bank found that the average number of cars waiting during the noon hour at \n",
    "# a drive-up window follows a Poisson distribution with a mean of 2 cars. \n",
    "# Make a chart of this distribution and \n",
    "# answer these questions concerning the probability of cars waiting at the drive-up window."
   ]
  },
  {
   "cell_type": "code",
   "execution_count": null,
   "id": "90f019e0",
   "metadata": {},
   "outputs": [],
   "source": [
    "# What is the probability that no cars drive up in the noon hour?"
   ]
  },
  {
   "cell_type": "code",
   "execution_count": 53,
   "id": "42bf7eaa",
   "metadata": {},
   "outputs": [
    {
     "data": {
      "image/png": "[encoded data removed]",
      "text/plain": [
       "<Figure size 432x288 with 1 Axes>"
      ]
     },
     "metadata": {
      "needs_background": "light"
     },
     "output_type": "display_data"
    }
   ],
   "source": [
    "λ = 2\n",
    "x = np.arange(0,12)\n",
    "y = stats.poisson(λ).pmf(x)\n",
    "\n",
    "# stats.poisson(λ)\n",
    "\n",
    "plt.bar(x,y)\n",
    "plt.title('Poisson with λ = 2')\n",
    "plt.xlabel('Number of cars during noon')\n",
    "plt.ylabel('P(X)')\n",
    "plt.show()"
   ]
  },
  {
   "cell_type": "code",
   "execution_count": 55,
   "id": "2bdf73c6",
   "metadata": {},
   "outputs": [
    {
     "data": {
      "text/plain": [
       "0.14"
      ]
     },
     "execution_count": 55,
     "metadata": {},
     "output_type": "execute_result"
    }
   ],
   "source": [
    "λ = 2\n",
    "\n",
    "round(stats.poisson(λ).pmf(0),2)"
   ]
  },
  {
   "cell_type": "code",
   "execution_count": null,
   "id": "a149cb2d",
   "metadata": {},
   "outputs": [],
   "source": []
  },
  {
   "cell_type": "code",
   "execution_count": null,
   "id": "d3e70548",
   "metadata": {},
   "outputs": [],
   "source": [
    "# What is the probability that 3 or more cars come through the drive through?"
   ]
  },
  {
   "cell_type": "code",
   "execution_count": 56,
   "id": "f8e7f5c4",
   "metadata": {},
   "outputs": [
    {
     "data": {
      "text/plain": [
       "0.32"
      ]
     },
     "execution_count": 56,
     "metadata": {},
     "output_type": "execute_result"
    }
   ],
   "source": [
    "round(stats.poisson(λ).sf(2), 2)"
   ]
  },
  {
   "cell_type": "code",
   "execution_count": null,
   "id": "cfda931e",
   "metadata": {},
   "outputs": [],
   "source": []
  },
  {
   "cell_type": "code",
   "execution_count": null,
   "id": "16f6b594",
   "metadata": {},
   "outputs": [],
   "source": [
    "# How likely is it that the drive through gets at least 1 car?"
   ]
  },
  {
   "cell_type": "code",
   "execution_count": 57,
   "id": "ee9c5f6c",
   "metadata": {},
   "outputs": [
    {
     "data": {
      "text/plain": [
       "0.86"
      ]
     },
     "execution_count": 57,
     "metadata": {},
     "output_type": "execute_result"
    }
   ],
   "source": [
    "round(stats.poisson(λ).sf(0), 2)"
   ]
  },
  {
   "cell_type": "code",
   "execution_count": null,
   "id": "b30cb89c",
   "metadata": {},
   "outputs": [],
   "source": []
  },
  {
   "cell_type": "code",
   "execution_count": null,
   "id": "b481b148",
   "metadata": {},
   "outputs": [],
   "source": [
    "#2 Grades of State University graduates are normally distributed with a mean of 3.0 \n",
    "# and a standard deviation of .3. Calculate the following:\n",
    "# What grade point average is required to be in the top 5% of the graduating class?"
   ]
  },
  {
   "cell_type": "code",
   "execution_count": 88,
   "id": "2618c4ac",
   "metadata": {},
   "outputs": [
    {
     "data": {
      "text/plain": [
       "3.49"
      ]
     },
     "execution_count": 88,
     "metadata": {},
     "output_type": "execute_result"
    }
   ],
   "source": [
    "μ = 3.0\n",
    "σ = 0.3\n",
    "p = 0.05\n",
    "\n",
    "# stats.norm(μ, σ)\n",
    "\n",
    "round(stats.norm(μ, σ).isf(p),2)"
   ]
  },
  {
   "cell_type": "code",
   "execution_count": 89,
   "id": "528dcfdf",
   "metadata": {},
   "outputs": [
    {
     "data": {
      "text/plain": [
       "3.49"
      ]
     },
     "execution_count": 89,
     "metadata": {},
     "output_type": "execute_result"
    }
   ],
   "source": [
    "round(stats.norm(μ, σ).ppf(.95), 2)"
   ]
  },
  {
   "cell_type": "code",
   "execution_count": null,
   "id": "139e7686",
   "metadata": {},
   "outputs": [],
   "source": []
  },
  {
   "cell_type": "code",
   "execution_count": null,
   "id": "8a51c876",
   "metadata": {},
   "outputs": [],
   "source": []
  },
  {
   "cell_type": "code",
   "execution_count": null,
   "id": "d68d227f",
   "metadata": {},
   "outputs": [],
   "source": [
    "# What GPA constitutes the bottom 15% of the class?"
   ]
  },
  {
   "cell_type": "code",
   "execution_count": 60,
   "id": "d76925cc",
   "metadata": {},
   "outputs": [
    {
     "data": {
      "text/plain": [
       "2.69"
      ]
     },
     "execution_count": 60,
     "metadata": {},
     "output_type": "execute_result"
    }
   ],
   "source": [
    "p = .15\n",
    "\n",
    "round(stats.norm(μ, σ).ppf(p), 2)"
   ]
  },
  {
   "cell_type": "code",
   "execution_count": 74,
   "id": "f7a43a7a",
   "metadata": {},
   "outputs": [
    {
     "data": {
      "text/plain": [
       "2.69"
      ]
     },
     "execution_count": 74,
     "metadata": {},
     "output_type": "execute_result"
    }
   ],
   "source": [
    "round(stats.norm(μ, σ).isf(.85), 2)"
   ]
  },
  {
   "cell_type": "code",
   "execution_count": null,
   "id": "ea944e6a",
   "metadata": {},
   "outputs": [],
   "source": []
  },
  {
   "cell_type": "code",
   "execution_count": null,
   "id": "35e9404b",
   "metadata": {},
   "outputs": [],
   "source": [
    "# An eccentric alumnus left scholarship money for students in the third decile from the bottom of their class. \n",
    "# Determine the range of the third decile. \n",
    "# Would a student with a 2.8 grade point average qualify for this scholarship?"
   ]
  },
  {
   "cell_type": "code",
   "execution_count": 63,
   "id": "0bb1896a",
   "metadata": {},
   "outputs": [
    {
     "data": {
      "text/plain": [
       "array([2.74751363, 2.84267985])"
      ]
     },
     "execution_count": 63,
     "metadata": {},
     "output_type": "execute_result"
    }
   ],
   "source": [
    "stats.norm(μ, σ).ppf([.2, .3])"
   ]
  },
  {
   "cell_type": "code",
   "execution_count": null,
   "id": "b530f6f3",
   "metadata": {},
   "outputs": [],
   "source": []
  },
  {
   "cell_type": "code",
   "execution_count": null,
   "id": "1d896799",
   "metadata": {},
   "outputs": [],
   "source": [
    "# If I have a GPA of 3.5, what percentile am I in?"
   ]
  },
  {
   "cell_type": "code",
   "execution_count": 90,
   "id": "139b53a5",
   "metadata": {},
   "outputs": [
    {
     "data": {
      "text/plain": [
       "0.95"
      ]
     },
     "execution_count": 90,
     "metadata": {},
     "output_type": "execute_result"
    }
   ],
   "source": [
    "round(stats.norm(μ, σ).cdf(3.5), 2)"
   ]
  },
  {
   "cell_type": "code",
   "execution_count": 92,
   "id": "37c19909",
   "metadata": {},
   "outputs": [
    {
     "data": {
      "text/plain": [
       "0.05"
      ]
     },
     "execution_count": 92,
     "metadata": {},
     "output_type": "execute_result"
    }
   ],
   "source": [
    "round(stats.norm(μ, σ).sf(3.5), 2)"
   ]
  },
  {
   "cell_type": "code",
   "execution_count": null,
   "id": "8cdc2748",
   "metadata": {},
   "outputs": [],
   "source": []
  },
  {
   "cell_type": "code",
   "execution_count": null,
   "id": "bdfe0d5a",
   "metadata": {},
   "outputs": [],
   "source": [
    "#3 A marketing website has an average click-through rate of 2%. \n",
    "# One day they observe 4326 visitors and 97 click-throughs. \n",
    "# How likely is it that this many people or more click through?"
   ]
  },
  {
   "cell_type": "code",
   "execution_count": 94,
   "id": "d132d864",
   "metadata": {},
   "outputs": [
    {
     "data": {
      "text/plain": [
       "0.14"
      ]
     },
     "execution_count": 94,
     "metadata": {},
     "output_type": "execute_result"
    }
   ],
   "source": [
    "n = 4326\n",
    "p = .02\n",
    "\n",
    "# stats.binom(n, p)\n",
    "\n",
    "round(stats.binom(n, p).sf(96), 2)\n"
   ]
  },
  {
   "cell_type": "code",
   "execution_count": 96,
   "id": "dcdf1f58",
   "metadata": {},
   "outputs": [
    {
     "data": {
      "text/plain": [
       "0.14"
      ]
     },
     "execution_count": 96,
     "metadata": {},
     "output_type": "execute_result"
    }
   ],
   "source": [
    "# as a poisson distribution\n",
    "\n",
    "λ = n * p\n",
    "round(stats.poisson(λ).sf(96), 2)"
   ]
  },
  {
   "cell_type": "code",
   "execution_count": null,
   "id": "72d5803a",
   "metadata": {},
   "outputs": [],
   "source": []
  },
  {
   "cell_type": "code",
   "execution_count": null,
   "id": "c916227e",
   "metadata": {},
   "outputs": [],
   "source": []
  },
  {
   "cell_type": "code",
   "execution_count": null,
   "id": "3e6ac3a6",
   "metadata": {},
   "outputs": [],
   "source": [
    "# 4 You are working on some statistics homework consisting of 100 questions \n",
    "# where all of the answers are a probability rounded to the hundreths place. \n",
    "# Looking to save time, you put down random probabilities as the answer to each question.\n",
    "\n",
    "# What is the probability that at least one of your first 60 answers is correct?\n"
   ]
  },
  {
   "cell_type": "code",
   "execution_count": 66,
   "id": "6e819d35",
   "metadata": {},
   "outputs": [
    {
     "data": {
      "text/plain": [
       "0.45"
      ]
     },
     "execution_count": 66,
     "metadata": {},
     "output_type": "execute_result"
    }
   ],
   "source": [
    "n = 60\n",
    "p = 0.01\n",
    "\n",
    "# stats.binom(n, p)\n",
    "\n",
    "round(stats.binom(n,p).sf(0), 2)"
   ]
  },
  {
   "cell_type": "code",
   "execution_count": null,
   "id": "3da353cb",
   "metadata": {},
   "outputs": [],
   "source": []
  },
  {
   "cell_type": "code",
   "execution_count": null,
   "id": "5c73370b",
   "metadata": {},
   "outputs": [],
   "source": [
    "#5 The codeup staff tends to get upset when the student break area is not cleaned up. \n",
    "# Suppose that there's a 3% chance that any one student cleans the break area when they visit it, \n",
    "# and, on any given day, about 90% of the 3 active cohorts of 22 students visit the break area. \n",
    "# How likely is it that the break area gets cleaned up each day?"
   ]
  },
  {
   "cell_type": "code",
   "execution_count": 67,
   "id": "e817669f",
   "metadata": {},
   "outputs": [
    {
     "data": {
      "text/plain": [
       "0.83"
      ]
     },
     "execution_count": 67,
     "metadata": {},
     "output_type": "execute_result"
    }
   ],
   "source": [
    "n = round(.9*3*22)\n",
    "p = 0.03\n",
    "\n",
    "# stats.binom(n, p)\n",
    "\n",
    "round(stats.binom(n, p).sf(0), 2)"
   ]
  },
  {
   "cell_type": "code",
   "execution_count": null,
   "id": "552769fa",
   "metadata": {},
   "outputs": [],
   "source": []
  },
  {
   "cell_type": "code",
   "execution_count": null,
   "id": "5858d782",
   "metadata": {},
   "outputs": [],
   "source": [
    "# How likely is it that it goes two days without getting cleaned up?"
   ]
  },
  {
   "cell_type": "code",
   "execution_count": 69,
   "id": "c187fac5",
   "metadata": {},
   "outputs": [
    {
     "data": {
      "text/plain": [
       "0.0275"
      ]
     },
     "execution_count": 69,
     "metadata": {},
     "output_type": "execute_result"
    }
   ],
   "source": [
    "round(stats.binom(n*2, p).pmf(0), 4)"
   ]
  },
  {
   "cell_type": "code",
   "execution_count": null,
   "id": "8be2fd34",
   "metadata": {},
   "outputs": [],
   "source": []
  },
  {
   "cell_type": "code",
   "execution_count": null,
   "id": "d713c0b6",
   "metadata": {},
   "outputs": [],
   "source": [
    "# All week?"
   ]
  },
  {
   "cell_type": "code",
   "execution_count": 70,
   "id": "f090bfb8",
   "metadata": {},
   "outputs": [
    {
     "data": {
      "text/plain": [
       "0.0001"
      ]
     },
     "execution_count": 70,
     "metadata": {},
     "output_type": "execute_result"
    }
   ],
   "source": [
    "round(stats.binom(n*5, p).pmf(0), 4)"
   ]
  },
  {
   "cell_type": "code",
   "execution_count": null,
   "id": "ad066a83",
   "metadata": {},
   "outputs": [],
   "source": []
  },
  {
   "cell_type": "code",
   "execution_count": null,
   "id": "1cd49ac8",
   "metadata": {},
   "outputs": [],
   "source": [
    "#6 You want to get lunch at La Panaderia, but notice that the line is usually very long at lunchtime. \n",
    "# After several weeks of careful observation, you notice that the average number of people in line \n",
    "# when your lunch break starts is normally distributed with a mean of 15 and standard deviation of 3. \n",
    "# If it takes 2 minutes for each person to order, and 10 minutes from ordering to getting your food, \n",
    "# what is the likelihood that you have at least 15 minutes left to eat your food before \n",
    "# you have to go back to class? Assume you have one hour for lunch, \n",
    "# and ignore travel time to and from La Panaderia."
   ]
  },
  {
   "cell_type": "code",
   "execution_count": null,
   "id": "da895186",
   "metadata": {},
   "outputs": [],
   "source": []
  },
  {
   "cell_type": "code",
   "execution_count": 75,
   "id": "fe16993b",
   "metadata": {},
   "outputs": [
    {
     "data": {
      "text/plain": [
       "0.69"
      ]
     },
     "execution_count": 75,
     "metadata": {},
     "output_type": "execute_result"
    }
   ],
   "source": [
    "μ = 15 * 2 #change to minutes\n",
    "σ = 3 * 2 #change to minutes\n",
    "\n",
    "time_for_lunch = 60\n",
    "time_to_get_food = 10\n",
    "time_to_order = 2\n",
    "time_to_eat = 15\n",
    "\n",
    "avail_time = time_for_lunch - (time_to_order + time_to_get_food + time_to_eat)\n",
    "\n",
    "round(stats.norm(μ, σ).cdf(avail_time), 2)"
   ]
  },
  {
   "cell_type": "code",
   "execution_count": null,
   "id": "4adf1669",
   "metadata": {},
   "outputs": [],
   "source": []
  },
  {
   "cell_type": "code",
   "execution_count": 76,
   "id": "3df4518c",
   "metadata": {},
   "outputs": [
    {
     "data": {
      "text/plain": [
       "0.69"
      ]
     },
     "execution_count": 76,
     "metadata": {},
     "output_type": "execute_result"
    }
   ],
   "source": [
    "μ = 15 # people\n",
    "σ = 3 # people\n",
    "\n",
    "# 33 / 2 will give equivalent people\n",
    "\n",
    "round(stats.norm(μ, σ).cdf(33/2), 2)"
   ]
  },
  {
   "cell_type": "code",
   "execution_count": null,
   "id": "ff50c63a",
   "metadata": {},
   "outputs": [],
   "source": []
  },
  {
   "cell_type": "code",
   "execution_count": null,
   "id": "e35fe26e",
   "metadata": {},
   "outputs": [],
   "source": [
    "#7 Connect to the employees database and find the average salary of current employees, \n",
    "# along with the standard deviation. For the following questions, \n",
    "# calculate the answer based on modeling the employees salaries with a normal distribution \n",
    "# defined by the calculated mean and standard deviation then compare this answer to the actual values present \n",
    "# in the salaries dataset."
   ]
  },
  {
   "cell_type": "code",
   "execution_count": null,
   "id": "b65c76da",
   "metadata": {},
   "outputs": [],
   "source": [
    "# What percent of employees earn less than 60,000?"
   ]
  },
  {
   "cell_type": "code",
   "execution_count": 49,
   "id": "b8a58549",
   "metadata": {},
   "outputs": [],
   "source": [
    "url = f'mysql+pymysql://{env.user_name}:{env.pass_word}@{env.host}/employees'\n",
    "query = '''SELECT *\n",
    "FROM salaries s\n",
    "WHERE s.to_date > NOW()'''\n",
    "    \n",
    "df = pd.read_sql(query, url)"
   ]
  },
  {
   "cell_type": "code",
   "execution_count": 50,
   "id": "5f915b64",
   "metadata": {},
   "outputs": [
    {
     "data": {
      "text/html": [
       "<div>\n",
       "<style scoped>\n",
       "    .dataframe tbody tr th:only-of-type {\n",
       "        vertical-align: middle;\n",
       "    }\n",
       "\n",
       "    .dataframe tbody tr th {\n",
       "        vertical-align: top;\n",
       "    }\n",
       "\n",
       "    .dataframe thead th {\n",
       "        text-align: right;\n",
       "    }\n",
       "</style>\n",
       "<table border=\"1\" class=\"dataframe\">\n",
       "  <thead>\n",
       "    <tr style=\"text-align: right;\">\n",
       "      <th></th>\n",
       "      <th>emp_no</th>\n",
       "      <th>salary</th>\n",
       "      <th>from_date</th>\n",
       "      <th>to_date</th>\n",
       "    </tr>\n",
       "  </thead>\n",
       "  <tbody>\n",
       "    <tr>\n",
       "      <th>0</th>\n",
       "      <td>10001</td>\n",
       "      <td>88958</td>\n",
       "      <td>2002-06-22</td>\n",
       "      <td>9999-01-01</td>\n",
       "    </tr>\n",
       "    <tr>\n",
       "      <th>1</th>\n",
       "      <td>10002</td>\n",
       "      <td>72527</td>\n",
       "      <td>2001-08-02</td>\n",
       "      <td>9999-01-01</td>\n",
       "    </tr>\n",
       "    <tr>\n",
       "      <th>2</th>\n",
       "      <td>10003</td>\n",
       "      <td>43311</td>\n",
       "      <td>2001-12-01</td>\n",
       "      <td>9999-01-01</td>\n",
       "    </tr>\n",
       "    <tr>\n",
       "      <th>3</th>\n",
       "      <td>10004</td>\n",
       "      <td>74057</td>\n",
       "      <td>2001-11-27</td>\n",
       "      <td>9999-01-01</td>\n",
       "    </tr>\n",
       "    <tr>\n",
       "      <th>4</th>\n",
       "      <td>10005</td>\n",
       "      <td>94692</td>\n",
       "      <td>2001-09-09</td>\n",
       "      <td>9999-01-01</td>\n",
       "    </tr>\n",
       "    <tr>\n",
       "      <th>...</th>\n",
       "      <td>...</td>\n",
       "      <td>...</td>\n",
       "      <td>...</td>\n",
       "      <td>...</td>\n",
       "    </tr>\n",
       "    <tr>\n",
       "      <th>240119</th>\n",
       "      <td>499995</td>\n",
       "      <td>52868</td>\n",
       "      <td>2002-06-01</td>\n",
       "      <td>9999-01-01</td>\n",
       "    </tr>\n",
       "    <tr>\n",
       "      <th>240120</th>\n",
       "      <td>499996</td>\n",
       "      <td>69501</td>\n",
       "      <td>2002-05-12</td>\n",
       "      <td>9999-01-01</td>\n",
       "    </tr>\n",
       "    <tr>\n",
       "      <th>240121</th>\n",
       "      <td>499997</td>\n",
       "      <td>83441</td>\n",
       "      <td>2001-08-26</td>\n",
       "      <td>9999-01-01</td>\n",
       "    </tr>\n",
       "    <tr>\n",
       "      <th>240122</th>\n",
       "      <td>499998</td>\n",
       "      <td>55003</td>\n",
       "      <td>2001-12-25</td>\n",
       "      <td>9999-01-01</td>\n",
       "    </tr>\n",
       "    <tr>\n",
       "      <th>240123</th>\n",
       "      <td>499999</td>\n",
       "      <td>77303</td>\n",
       "      <td>2001-11-29</td>\n",
       "      <td>9999-01-01</td>\n",
       "    </tr>\n",
       "  </tbody>\n",
       "</table>\n",
       "<p>240124 rows × 4 columns</p>\n",
       "</div>"
      ],
      "text/plain": [
       "        emp_no  salary   from_date     to_date\n",
       "0        10001   88958  2002-06-22  9999-01-01\n",
       "1        10002   72527  2001-08-02  9999-01-01\n",
       "2        10003   43311  2001-12-01  9999-01-01\n",
       "3        10004   74057  2001-11-27  9999-01-01\n",
       "4        10005   94692  2001-09-09  9999-01-01\n",
       "...        ...     ...         ...         ...\n",
       "240119  499995   52868  2002-06-01  9999-01-01\n",
       "240120  499996   69501  2002-05-12  9999-01-01\n",
       "240121  499997   83441  2001-08-26  9999-01-01\n",
       "240122  499998   55003  2001-12-25  9999-01-01\n",
       "240123  499999   77303  2001-11-29  9999-01-01\n",
       "\n",
       "[240124 rows x 4 columns]"
      ]
     },
     "execution_count": 50,
     "metadata": {},
     "output_type": "execute_result"
    }
   ],
   "source": [
    "df"
   ]
  },
  {
   "cell_type": "code",
   "execution_count": 79,
   "id": "ed3d41b3",
   "metadata": {},
   "outputs": [
    {
     "data": {
      "text/plain": [
       "(72012.23585730705, 17309.99538025198)"
      ]
     },
     "execution_count": 79,
     "metadata": {},
     "output_type": "execute_result"
    }
   ],
   "source": [
    "μ = df.salary.mean()\n",
    "σ = df.salary.std()\n",
    "\n",
    "μ, σ"
   ]
  },
  {
   "cell_type": "code",
   "execution_count": null,
   "id": "a25c625f",
   "metadata": {},
   "outputs": [],
   "source": []
  },
  {
   "cell_type": "code",
   "execution_count": 81,
   "id": "2449a2b7",
   "metadata": {},
   "outputs": [
    {
     "data": {
      "text/plain": [
       "0.24"
      ]
     },
     "execution_count": 81,
     "metadata": {},
     "output_type": "execute_result"
    }
   ],
   "source": [
    "round(stats.norm(μ, σ).cdf(60000), 2)"
   ]
  },
  {
   "cell_type": "code",
   "execution_count": null,
   "id": "5c570965",
   "metadata": {},
   "outputs": [],
   "source": []
  },
  {
   "cell_type": "code",
   "execution_count": null,
   "id": "c4895ac6",
   "metadata": {},
   "outputs": [],
   "source": [
    "# What percent of employees earn more than 95,000?"
   ]
  },
  {
   "cell_type": "code",
   "execution_count": 82,
   "id": "dba57888",
   "metadata": {
    "scrolled": true
   },
   "outputs": [
    {
     "data": {
      "text/plain": [
       "0.09"
      ]
     },
     "execution_count": 82,
     "metadata": {},
     "output_type": "execute_result"
    }
   ],
   "source": [
    "round(stats.norm(μ, σ).sf(95000), 2)"
   ]
  },
  {
   "cell_type": "code",
   "execution_count": null,
   "id": "923532c8",
   "metadata": {},
   "outputs": [],
   "source": []
  },
  {
   "cell_type": "code",
   "execution_count": null,
   "id": "19b5510e",
   "metadata": {},
   "outputs": [],
   "source": []
  },
  {
   "cell_type": "code",
   "execution_count": null,
   "id": "c10d8a46",
   "metadata": {},
   "outputs": [],
   "source": [
    "# What percent of employees earn between 65,000 and 80,000?"
   ]
  },
  {
   "cell_type": "code",
   "execution_count": 44,
   "id": "ae349dfb",
   "metadata": {},
   "outputs": [
    {
     "data": {
      "text/plain": [
       "array([0.34270292, 0.67776349])"
      ]
     },
     "execution_count": 44,
     "metadata": {},
     "output_type": "execute_result"
    }
   ],
   "source": [
    "stats.norm(μ, σ).cdf([65000, 80000])"
   ]
  },
  {
   "cell_type": "code",
   "execution_count": null,
   "id": "ec5cfe9a",
   "metadata": {},
   "outputs": [],
   "source": []
  },
  {
   "cell_type": "code",
   "execution_count": 43,
   "id": "34ba5032",
   "metadata": {},
   "outputs": [
    {
     "data": {
      "text/plain": [
       "array([0.33506057])"
      ]
     },
     "execution_count": 43,
     "metadata": {},
     "output_type": "execute_result"
    }
   ],
   "source": [
    "np.diff(stats.norm(μ, σ).cdf([65000, 80000]))"
   ]
  },
  {
   "cell_type": "code",
   "execution_count": null,
   "id": "d4ea3a05",
   "metadata": {},
   "outputs": [],
   "source": []
  },
  {
   "cell_type": "code",
   "execution_count": null,
   "id": "6ed37762",
   "metadata": {},
   "outputs": [],
   "source": []
  },
  {
   "cell_type": "code",
   "execution_count": null,
   "id": "2bd9fe91",
   "metadata": {},
   "outputs": [],
   "source": [
    "# What do the top 5% of employees make?"
   ]
  },
  {
   "cell_type": "code",
   "execution_count": 84,
   "id": "b8046b73",
   "metadata": {},
   "outputs": [
    {
     "data": {
      "text/plain": [
       "100484.64"
      ]
     },
     "execution_count": 84,
     "metadata": {},
     "output_type": "execute_result"
    }
   ],
   "source": [
    "round(stats.norm(μ, σ).isf(.05), 2)"
   ]
  },
  {
   "cell_type": "code",
   "execution_count": 83,
   "id": "61b8ef51",
   "metadata": {},
   "outputs": [
    {
     "data": {
      "text/plain": [
       "104225.85"
      ]
     },
     "execution_count": 83,
     "metadata": {},
     "output_type": "execute_result"
    }
   ],
   "source": [
    "round(df.salary.quantile(.95),2) #data is slighttly skewed"
   ]
  },
  {
   "cell_type": "code",
   "execution_count": null,
   "id": "ad72a37a",
   "metadata": {},
   "outputs": [],
   "source": []
  },
  {
   "cell_type": "code",
   "execution_count": null,
   "id": "aebf86f3",
   "metadata": {},
   "outputs": [],
   "source": []
  }
 ],
 "metadata": {
  "kernelspec": {
   "display_name": "Python 3 (ipykernel)",
   "language": "python",
   "name": "python3"
  },
  "language_info": {
   "codemirror_mode": {
    "name": "ipython",
    "version": 3
   },
   "file_extension": ".py",
   "mimetype": "text/x-python",
   "name": "python",
   "nbconvert_exporter": "python",
   "pygments_lexer": "ipython3",
   "version": "3.9.12"
  }
 },
 "nbformat": 4,
 "nbformat_minor": 5
}
