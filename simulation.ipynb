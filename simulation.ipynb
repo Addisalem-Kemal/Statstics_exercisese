{
 "cells": [
  {
   "cell_type": "code",
   "execution_count": 1,
   "id": "ff669e89",
   "metadata": {},
   "outputs": [],
   "source": [
    "import numpy as np\n",
    "import pandas as pd"
   ]
  },
  {
   "cell_type": "code",
   "execution_count": null,
   "id": "558d2c99",
   "metadata": {},
   "outputs": [],
   "source": []
  },
  {
   "cell_type": "code",
   "execution_count": null,
   "id": "447b7c94",
   "metadata": {},
   "outputs": [],
   "source": [
    "#1 How likely is it that you roll doubles when rolling two dice?"
   ]
  },
  {
   "cell_type": "code",
   "execution_count": 5,
   "id": "6e9558e6",
   "metadata": {},
   "outputs": [
    {
     "data": {
      "text/html": [
       "<div>\n",
       "<style scoped>\n",
       "    .dataframe tbody tr th:only-of-type {\n",
       "        vertical-align: middle;\n",
       "    }\n",
       "\n",
       "    .dataframe tbody tr th {\n",
       "        vertical-align: top;\n",
       "    }\n",
       "\n",
       "    .dataframe thead th {\n",
       "        text-align: right;\n",
       "    }\n",
       "</style>\n",
       "<table border=\"1\" class=\"dataframe\">\n",
       "  <thead>\n",
       "    <tr style=\"text-align: right;\">\n",
       "      <th></th>\n",
       "      <th>die1</th>\n",
       "      <th>die2</th>\n",
       "    </tr>\n",
       "  </thead>\n",
       "  <tbody>\n",
       "    <tr>\n",
       "      <th>0</th>\n",
       "      <td>2</td>\n",
       "      <td>3</td>\n",
       "    </tr>\n",
       "    <tr>\n",
       "      <th>1</th>\n",
       "      <td>3</td>\n",
       "      <td>1</td>\n",
       "    </tr>\n",
       "    <tr>\n",
       "      <th>2</th>\n",
       "      <td>2</td>\n",
       "      <td>5</td>\n",
       "    </tr>\n",
       "    <tr>\n",
       "      <th>3</th>\n",
       "      <td>2</td>\n",
       "      <td>1</td>\n",
       "    </tr>\n",
       "    <tr>\n",
       "      <th>4</th>\n",
       "      <td>1</td>\n",
       "      <td>1</td>\n",
       "    </tr>\n",
       "  </tbody>\n",
       "</table>\n",
       "</div>"
      ],
      "text/plain": [
       "   die1  die2\n",
       "0     2     3\n",
       "1     3     1\n",
       "2     2     5\n",
       "3     2     1\n",
       "4     1     1"
      ]
     },
     "execution_count": 5,
     "metadata": {},
     "output_type": "execute_result"
    }
   ],
   "source": [
    "n_simulations = 100_000\n",
    "n_trials = 2\n",
    "rolls = np.random.choice([1,2,3,4,5,6], size = (n_simulations, n_trials))\n",
    "rolls = pd.DataFrame(rolls, columns=[\"die1\",\"die2\"])\n",
    "rolls.head()"
   ]
  },
  {
   "cell_type": "code",
   "execution_count": 7,
   "id": "f901255a",
   "metadata": {},
   "outputs": [
    {
     "data": {
      "text/plain": [
       "0.16655"
      ]
     },
     "execution_count": 7,
     "metadata": {},
     "output_type": "execute_result"
    }
   ],
   "source": [
    "(rolls.die1 == rolls.die2).mean()"
   ]
  },
  {
   "cell_type": "code",
   "execution_count": null,
   "id": "9d3fa616",
   "metadata": {},
   "outputs": [],
   "source": []
  },
  {
   "cell_type": "code",
   "execution_count": null,
   "id": "2076ae38",
   "metadata": {},
   "outputs": [],
   "source": [
    "#2 If you flip 8 coins, what is the probability of getting exactly 3 heads? \n",
    "# What is the probability of getting more than 3 heads?"
   ]
  },
  {
   "cell_type": "code",
   "execution_count": 8,
   "id": "0c1401c0",
   "metadata": {},
   "outputs": [
    {
     "data": {
      "text/html": [
       "<div>\n",
       "<style scoped>\n",
       "    .dataframe tbody tr th:only-of-type {\n",
       "        vertical-align: middle;\n",
       "    }\n",
       "\n",
       "    .dataframe tbody tr th {\n",
       "        vertical-align: top;\n",
       "    }\n",
       "\n",
       "    .dataframe thead th {\n",
       "        text-align: right;\n",
       "    }\n",
       "</style>\n",
       "<table border=\"1\" class=\"dataframe\">\n",
       "  <thead>\n",
       "    <tr style=\"text-align: right;\">\n",
       "      <th></th>\n",
       "      <th>0</th>\n",
       "      <th>1</th>\n",
       "      <th>2</th>\n",
       "      <th>3</th>\n",
       "      <th>4</th>\n",
       "      <th>5</th>\n",
       "      <th>6</th>\n",
       "      <th>7</th>\n",
       "    </tr>\n",
       "  </thead>\n",
       "  <tbody>\n",
       "    <tr>\n",
       "      <th>0</th>\n",
       "      <td>Tails</td>\n",
       "      <td>Heads</td>\n",
       "      <td>Tails</td>\n",
       "      <td>Tails</td>\n",
       "      <td>Tails</td>\n",
       "      <td>Heads</td>\n",
       "      <td>Tails</td>\n",
       "      <td>Tails</td>\n",
       "    </tr>\n",
       "    <tr>\n",
       "      <th>1</th>\n",
       "      <td>Tails</td>\n",
       "      <td>Heads</td>\n",
       "      <td>Tails</td>\n",
       "      <td>Heads</td>\n",
       "      <td>Heads</td>\n",
       "      <td>Tails</td>\n",
       "      <td>Heads</td>\n",
       "      <td>Tails</td>\n",
       "    </tr>\n",
       "    <tr>\n",
       "      <th>2</th>\n",
       "      <td>Tails</td>\n",
       "      <td>Tails</td>\n",
       "      <td>Tails</td>\n",
       "      <td>Tails</td>\n",
       "      <td>Heads</td>\n",
       "      <td>Heads</td>\n",
       "      <td>Tails</td>\n",
       "      <td>Tails</td>\n",
       "    </tr>\n",
       "    <tr>\n",
       "      <th>3</th>\n",
       "      <td>Heads</td>\n",
       "      <td>Heads</td>\n",
       "      <td>Tails</td>\n",
       "      <td>Heads</td>\n",
       "      <td>Tails</td>\n",
       "      <td>Tails</td>\n",
       "      <td>Tails</td>\n",
       "      <td>Heads</td>\n",
       "    </tr>\n",
       "    <tr>\n",
       "      <th>4</th>\n",
       "      <td>Heads</td>\n",
       "      <td>Tails</td>\n",
       "      <td>Tails</td>\n",
       "      <td>Heads</td>\n",
       "      <td>Tails</td>\n",
       "      <td>Heads</td>\n",
       "      <td>Heads</td>\n",
       "      <td>Heads</td>\n",
       "    </tr>\n",
       "  </tbody>\n",
       "</table>\n",
       "</div>"
      ],
      "text/plain": [
       "       0      1      2      3      4      5      6      7\n",
       "0  Tails  Heads  Tails  Tails  Tails  Heads  Tails  Tails\n",
       "1  Tails  Heads  Tails  Heads  Heads  Tails  Heads  Tails\n",
       "2  Tails  Tails  Tails  Tails  Heads  Heads  Tails  Tails\n",
       "3  Heads  Heads  Tails  Heads  Tails  Tails  Tails  Heads\n",
       "4  Heads  Tails  Tails  Heads  Tails  Heads  Heads  Heads"
      ]
     },
     "execution_count": 8,
     "metadata": {},
     "output_type": "execute_result"
    }
   ],
   "source": [
    "n_simulations = 100_000\n",
    "n_trials = 8\n",
    "coin_flips = np.random.choice([\"Heads\", \"Tails\"], size=(100_000, 8))\n",
    "coin_flips = pd.DataFrame(coin_flips)\n",
    "coin_flips.head()"
   ]
  },
  {
   "cell_type": "code",
   "execution_count": 9,
   "id": "4d3b8074",
   "metadata": {},
   "outputs": [
    {
     "data": {
      "text/html": [
       "<div>\n",
       "<style scoped>\n",
       "    .dataframe tbody tr th:only-of-type {\n",
       "        vertical-align: middle;\n",
       "    }\n",
       "\n",
       "    .dataframe tbody tr th {\n",
       "        vertical-align: top;\n",
       "    }\n",
       "\n",
       "    .dataframe thead th {\n",
       "        text-align: right;\n",
       "    }\n",
       "</style>\n",
       "<table border=\"1\" class=\"dataframe\">\n",
       "  <thead>\n",
       "    <tr style=\"text-align: right;\">\n",
       "      <th></th>\n",
       "      <th>0</th>\n",
       "      <th>1</th>\n",
       "      <th>2</th>\n",
       "      <th>3</th>\n",
       "      <th>4</th>\n",
       "      <th>5</th>\n",
       "      <th>6</th>\n",
       "      <th>7</th>\n",
       "    </tr>\n",
       "  </thead>\n",
       "  <tbody>\n",
       "    <tr>\n",
       "      <th>0</th>\n",
       "      <td>False</td>\n",
       "      <td>True</td>\n",
       "      <td>False</td>\n",
       "      <td>False</td>\n",
       "      <td>False</td>\n",
       "      <td>True</td>\n",
       "      <td>False</td>\n",
       "      <td>False</td>\n",
       "    </tr>\n",
       "    <tr>\n",
       "      <th>1</th>\n",
       "      <td>False</td>\n",
       "      <td>True</td>\n",
       "      <td>False</td>\n",
       "      <td>True</td>\n",
       "      <td>True</td>\n",
       "      <td>False</td>\n",
       "      <td>True</td>\n",
       "      <td>False</td>\n",
       "    </tr>\n",
       "    <tr>\n",
       "      <th>2</th>\n",
       "      <td>False</td>\n",
       "      <td>False</td>\n",
       "      <td>False</td>\n",
       "      <td>False</td>\n",
       "      <td>True</td>\n",
       "      <td>True</td>\n",
       "      <td>False</td>\n",
       "      <td>False</td>\n",
       "    </tr>\n",
       "    <tr>\n",
       "      <th>3</th>\n",
       "      <td>True</td>\n",
       "      <td>True</td>\n",
       "      <td>False</td>\n",
       "      <td>True</td>\n",
       "      <td>False</td>\n",
       "      <td>False</td>\n",
       "      <td>False</td>\n",
       "      <td>True</td>\n",
       "    </tr>\n",
       "    <tr>\n",
       "      <th>4</th>\n",
       "      <td>True</td>\n",
       "      <td>False</td>\n",
       "      <td>False</td>\n",
       "      <td>True</td>\n",
       "      <td>False</td>\n",
       "      <td>True</td>\n",
       "      <td>True</td>\n",
       "      <td>True</td>\n",
       "    </tr>\n",
       "  </tbody>\n",
       "</table>\n",
       "</div>"
      ],
      "text/plain": [
       "       0      1      2      3      4      5      6      7\n",
       "0  False   True  False  False  False   True  False  False\n",
       "1  False   True  False   True   True  False   True  False\n",
       "2  False  False  False  False   True   True  False  False\n",
       "3   True   True  False   True  False  False  False   True\n",
       "4   True  False  False   True  False   True   True   True"
      ]
     },
     "execution_count": 9,
     "metadata": {},
     "output_type": "execute_result"
    }
   ],
   "source": [
    "(coin_flips == 'Heads').head()"
   ]
  },
  {
   "cell_type": "code",
   "execution_count": 11,
   "id": "9a91008a",
   "metadata": {},
   "outputs": [
    {
     "data": {
      "text/html": [
       "<div>\n",
       "<style scoped>\n",
       "    .dataframe tbody tr th:only-of-type {\n",
       "        vertical-align: middle;\n",
       "    }\n",
       "\n",
       "    .dataframe tbody tr th {\n",
       "        vertical-align: top;\n",
       "    }\n",
       "\n",
       "    .dataframe thead th {\n",
       "        text-align: right;\n",
       "    }\n",
       "</style>\n",
       "<table border=\"1\" class=\"dataframe\">\n",
       "  <thead>\n",
       "    <tr style=\"text-align: right;\">\n",
       "      <th></th>\n",
       "      <th>0</th>\n",
       "      <th>1</th>\n",
       "      <th>2</th>\n",
       "      <th>3</th>\n",
       "      <th>4</th>\n",
       "      <th>5</th>\n",
       "      <th>6</th>\n",
       "      <th>7</th>\n",
       "      <th>n_heads</th>\n",
       "    </tr>\n",
       "  </thead>\n",
       "  <tbody>\n",
       "    <tr>\n",
       "      <th>0</th>\n",
       "      <td>Tails</td>\n",
       "      <td>Heads</td>\n",
       "      <td>Tails</td>\n",
       "      <td>Tails</td>\n",
       "      <td>Tails</td>\n",
       "      <td>Heads</td>\n",
       "      <td>Tails</td>\n",
       "      <td>Tails</td>\n",
       "      <td>2</td>\n",
       "    </tr>\n",
       "    <tr>\n",
       "      <th>1</th>\n",
       "      <td>Tails</td>\n",
       "      <td>Heads</td>\n",
       "      <td>Tails</td>\n",
       "      <td>Heads</td>\n",
       "      <td>Heads</td>\n",
       "      <td>Tails</td>\n",
       "      <td>Heads</td>\n",
       "      <td>Tails</td>\n",
       "      <td>4</td>\n",
       "    </tr>\n",
       "    <tr>\n",
       "      <th>2</th>\n",
       "      <td>Tails</td>\n",
       "      <td>Tails</td>\n",
       "      <td>Tails</td>\n",
       "      <td>Tails</td>\n",
       "      <td>Heads</td>\n",
       "      <td>Heads</td>\n",
       "      <td>Tails</td>\n",
       "      <td>Tails</td>\n",
       "      <td>2</td>\n",
       "    </tr>\n",
       "    <tr>\n",
       "      <th>3</th>\n",
       "      <td>Heads</td>\n",
       "      <td>Heads</td>\n",
       "      <td>Tails</td>\n",
       "      <td>Heads</td>\n",
       "      <td>Tails</td>\n",
       "      <td>Tails</td>\n",
       "      <td>Tails</td>\n",
       "      <td>Heads</td>\n",
       "      <td>4</td>\n",
       "    </tr>\n",
       "    <tr>\n",
       "      <th>4</th>\n",
       "      <td>Heads</td>\n",
       "      <td>Tails</td>\n",
       "      <td>Tails</td>\n",
       "      <td>Heads</td>\n",
       "      <td>Tails</td>\n",
       "      <td>Heads</td>\n",
       "      <td>Heads</td>\n",
       "      <td>Heads</td>\n",
       "      <td>5</td>\n",
       "    </tr>\n",
       "  </tbody>\n",
       "</table>\n",
       "</div>"
      ],
      "text/plain": [
       "       0      1      2      3      4      5      6      7  n_heads\n",
       "0  Tails  Heads  Tails  Tails  Tails  Heads  Tails  Tails        2\n",
       "1  Tails  Heads  Tails  Heads  Heads  Tails  Heads  Tails        4\n",
       "2  Tails  Tails  Tails  Tails  Heads  Heads  Tails  Tails        2\n",
       "3  Heads  Heads  Tails  Heads  Tails  Tails  Tails  Heads        4\n",
       "4  Heads  Tails  Tails  Heads  Tails  Heads  Heads  Heads        5"
      ]
     },
     "execution_count": 11,
     "metadata": {},
     "output_type": "execute_result"
    }
   ],
   "source": [
    "coin_flips[\"n_heads\"]=(coin_flips == 'Heads').sum(axis=1)\n",
    "coin_flips.head()"
   ]
  },
  {
   "cell_type": "code",
   "execution_count": 12,
   "id": "5810b68e",
   "metadata": {},
   "outputs": [
    {
     "data": {
      "text/plain": [
       "0.63353"
      ]
     },
     "execution_count": 12,
     "metadata": {},
     "output_type": "execute_result"
    }
   ],
   "source": [
    "(coin_flips.n_heads > 3).mean()"
   ]
  },
  {
   "cell_type": "code",
   "execution_count": null,
   "id": "c7116446",
   "metadata": {},
   "outputs": [],
   "source": []
  },
  {
   "cell_type": "code",
   "execution_count": null,
   "id": "dfb8ed97",
   "metadata": {},
   "outputs": [],
   "source": [
    "#3 There are approximitely 3 web development cohorts for every 1 data science cohort at Codeup. \n",
    "# Assuming that Codeup randomly selects an alumni to put on a billboard, \n",
    "# what are the odds that the two billboards \n",
    "# I drive past both have data science students on them?"
   ]
  },
  {
   "cell_type": "code",
   "execution_count": 13,
   "id": "3000c9d3",
   "metadata": {},
   "outputs": [
    {
     "data": {
      "text/html": [
       "<div>\n",
       "<style scoped>\n",
       "    .dataframe tbody tr th:only-of-type {\n",
       "        vertical-align: middle;\n",
       "    }\n",
       "\n",
       "    .dataframe tbody tr th {\n",
       "        vertical-align: top;\n",
       "    }\n",
       "\n",
       "    .dataframe thead th {\n",
       "        text-align: right;\n",
       "    }\n",
       "</style>\n",
       "<table border=\"1\" class=\"dataframe\">\n",
       "  <thead>\n",
       "    <tr style=\"text-align: right;\">\n",
       "      <th></th>\n",
       "      <th>0</th>\n",
       "      <th>1</th>\n",
       "    </tr>\n",
       "  </thead>\n",
       "  <tbody>\n",
       "    <tr>\n",
       "      <th>0</th>\n",
       "      <td>Data Science</td>\n",
       "      <td>Web Dev</td>\n",
       "    </tr>\n",
       "    <tr>\n",
       "      <th>1</th>\n",
       "      <td>Web Dev</td>\n",
       "      <td>Web Dev</td>\n",
       "    </tr>\n",
       "    <tr>\n",
       "      <th>2</th>\n",
       "      <td>Web Dev</td>\n",
       "      <td>Data Science</td>\n",
       "    </tr>\n",
       "    <tr>\n",
       "      <th>3</th>\n",
       "      <td>Data Science</td>\n",
       "      <td>Web Dev</td>\n",
       "    </tr>\n",
       "    <tr>\n",
       "      <th>4</th>\n",
       "      <td>Web Dev</td>\n",
       "      <td>Web Dev</td>\n",
       "    </tr>\n",
       "  </tbody>\n",
       "</table>\n",
       "</div>"
      ],
      "text/plain": [
       "              0             1\n",
       "0  Data Science       Web Dev\n",
       "1       Web Dev       Web Dev\n",
       "2       Web Dev  Data Science\n",
       "3  Data Science       Web Dev\n",
       "4       Web Dev       Web Dev"
      ]
     },
     "execution_count": 13,
     "metadata": {},
     "output_type": "execute_result"
    }
   ],
   "source": [
    "n_simulations = 100_000\n",
    "n_trials = 2\n",
    "\n",
    "billboards = np.random.choice(['Web Dev', 'Data Science'], p=(.75, .25), size=(n_simulations, n_trials))\n",
    "billboards = pd.DataFrame(billboards)\n",
    "billboards.head()"
   ]
  },
  {
   "cell_type": "code",
   "execution_count": 15,
   "id": "9efb7157",
   "metadata": {},
   "outputs": [
    {
     "data": {
      "text/plain": [
       "0.06236"
      ]
     },
     "execution_count": 15,
     "metadata": {},
     "output_type": "execute_result"
    }
   ],
   "source": [
    "billboards['no_of_data_science']= (billboards =='Data Science').sum(axis=1)\n",
    "(billboards.no_of_data_science == 2).mean()"
   ]
  },
  {
   "cell_type": "code",
   "execution_count": null,
   "id": "55b7c13e",
   "metadata": {},
   "outputs": [],
   "source": []
  },
  {
   "cell_type": "code",
   "execution_count": null,
   "id": "2db98f67",
   "metadata": {},
   "outputs": [],
   "source": [
    "#4 Codeup students buy, on average, 3 poptart packages with \n",
    "# a standard deviation of 1.5 a day from the snack vending machine. \n",
    "# If on monday the machine is restocked with 17 poptart packages, \n",
    "# how likely is it that I will be able to buy some poptarts on Friday afternoon? \n",
    "# (Remember, if you have mean and standard deviation, use the np.random.normal) \n",
    "# You'll need to make a judgement call on how to handle some of your values"
   ]
  },
  {
   "cell_type": "code",
   "execution_count": 25,
   "id": "cfc8be4d",
   "metadata": {},
   "outputs": [
    {
     "data": {
      "text/html": [
       "<div>\n",
       "<style scoped>\n",
       "    .dataframe tbody tr th:only-of-type {\n",
       "        vertical-align: middle;\n",
       "    }\n",
       "\n",
       "    .dataframe tbody tr th {\n",
       "        vertical-align: top;\n",
       "    }\n",
       "\n",
       "    .dataframe thead th {\n",
       "        text-align: right;\n",
       "    }\n",
       "</style>\n",
       "<table border=\"1\" class=\"dataframe\">\n",
       "  <thead>\n",
       "    <tr style=\"text-align: right;\">\n",
       "      <th></th>\n",
       "      <th>Mon</th>\n",
       "      <th>Tue</th>\n",
       "      <th>Wed</th>\n",
       "      <th>Thu</th>\n",
       "      <th>Fri</th>\n",
       "    </tr>\n",
       "  </thead>\n",
       "  <tbody>\n",
       "    <tr>\n",
       "      <th>0</th>\n",
       "      <td>3.0</td>\n",
       "      <td>2.0</td>\n",
       "      <td>2.0</td>\n",
       "      <td>6.0</td>\n",
       "      <td>2.0</td>\n",
       "    </tr>\n",
       "    <tr>\n",
       "      <th>1</th>\n",
       "      <td>2.0</td>\n",
       "      <td>3.0</td>\n",
       "      <td>3.0</td>\n",
       "      <td>3.0</td>\n",
       "      <td>5.0</td>\n",
       "    </tr>\n",
       "    <tr>\n",
       "      <th>2</th>\n",
       "      <td>2.0</td>\n",
       "      <td>2.0</td>\n",
       "      <td>4.0</td>\n",
       "      <td>1.0</td>\n",
       "      <td>1.0</td>\n",
       "    </tr>\n",
       "    <tr>\n",
       "      <th>3</th>\n",
       "      <td>1.0</td>\n",
       "      <td>3.0</td>\n",
       "      <td>4.0</td>\n",
       "      <td>3.0</td>\n",
       "      <td>2.0</td>\n",
       "    </tr>\n",
       "    <tr>\n",
       "      <th>4</th>\n",
       "      <td>2.0</td>\n",
       "      <td>4.0</td>\n",
       "      <td>2.0</td>\n",
       "      <td>4.0</td>\n",
       "      <td>6.0</td>\n",
       "    </tr>\n",
       "  </tbody>\n",
       "</table>\n",
       "</div>"
      ],
      "text/plain": [
       "   Mon  Tue  Wed  Thu  Fri\n",
       "0  3.0  2.0  2.0  6.0  2.0\n",
       "1  2.0  3.0  3.0  3.0  5.0\n",
       "2  2.0  2.0  4.0  1.0  1.0\n",
       "3  1.0  3.0  4.0  3.0  2.0\n",
       "4  2.0  4.0  2.0  4.0  6.0"
      ]
     },
     "execution_count": 25,
     "metadata": {},
     "output_type": "execute_result"
    }
   ],
   "source": [
    "n_simulations = 100_000\n",
    "n_trials = 5\n",
    "mean = 3\n",
    "std = 1.5\n",
    "\n",
    "poptarts = np.random.normal(mean, std, size=(n_simulations, n_trials)).round()\n",
    "poptarts = pd.DataFrame(poptarts, columns = (\"Mon\", \"Tue\", \"Wed\", \"Thu\", \"Fri\"))\n",
    "poptarts.head()"
   ]
  },
  {
   "cell_type": "code",
   "execution_count": 26,
   "id": "290f817f",
   "metadata": {},
   "outputs": [
    {
     "data": {
      "text/html": [
       "<div>\n",
       "<style scoped>\n",
       "    .dataframe tbody tr th:only-of-type {\n",
       "        vertical-align: middle;\n",
       "    }\n",
       "\n",
       "    .dataframe tbody tr th {\n",
       "        vertical-align: top;\n",
       "    }\n",
       "\n",
       "    .dataframe thead th {\n",
       "        text-align: right;\n",
       "    }\n",
       "</style>\n",
       "<table border=\"1\" class=\"dataframe\">\n",
       "  <thead>\n",
       "    <tr style=\"text-align: right;\">\n",
       "      <th></th>\n",
       "      <th>Mon</th>\n",
       "      <th>Tue</th>\n",
       "      <th>Wed</th>\n",
       "      <th>Thu</th>\n",
       "      <th>Fri</th>\n",
       "      <th>total_consumed</th>\n",
       "    </tr>\n",
       "  </thead>\n",
       "  <tbody>\n",
       "    <tr>\n",
       "      <th>0</th>\n",
       "      <td>3.0</td>\n",
       "      <td>2.0</td>\n",
       "      <td>2.0</td>\n",
       "      <td>6.0</td>\n",
       "      <td>2.0</td>\n",
       "      <td>15.0</td>\n",
       "    </tr>\n",
       "    <tr>\n",
       "      <th>1</th>\n",
       "      <td>2.0</td>\n",
       "      <td>3.0</td>\n",
       "      <td>3.0</td>\n",
       "      <td>3.0</td>\n",
       "      <td>5.0</td>\n",
       "      <td>16.0</td>\n",
       "    </tr>\n",
       "    <tr>\n",
       "      <th>2</th>\n",
       "      <td>2.0</td>\n",
       "      <td>2.0</td>\n",
       "      <td>4.0</td>\n",
       "      <td>1.0</td>\n",
       "      <td>1.0</td>\n",
       "      <td>10.0</td>\n",
       "    </tr>\n",
       "    <tr>\n",
       "      <th>3</th>\n",
       "      <td>1.0</td>\n",
       "      <td>3.0</td>\n",
       "      <td>4.0</td>\n",
       "      <td>3.0</td>\n",
       "      <td>2.0</td>\n",
       "      <td>13.0</td>\n",
       "    </tr>\n",
       "    <tr>\n",
       "      <th>4</th>\n",
       "      <td>2.0</td>\n",
       "      <td>4.0</td>\n",
       "      <td>2.0</td>\n",
       "      <td>4.0</td>\n",
       "      <td>6.0</td>\n",
       "      <td>18.0</td>\n",
       "    </tr>\n",
       "  </tbody>\n",
       "</table>\n",
       "</div>"
      ],
      "text/plain": [
       "   Mon  Tue  Wed  Thu  Fri  total_consumed\n",
       "0  3.0  2.0  2.0  6.0  2.0            15.0\n",
       "1  2.0  3.0  3.0  3.0  5.0            16.0\n",
       "2  2.0  2.0  4.0  1.0  1.0            10.0\n",
       "3  1.0  3.0  4.0  3.0  2.0            13.0\n",
       "4  2.0  4.0  2.0  4.0  6.0            18.0"
      ]
     },
     "execution_count": 26,
     "metadata": {},
     "output_type": "execute_result"
    }
   ],
   "source": [
    "poptarts[\"total_consumed\"] = poptarts.sum(axis=1)\n",
    "poptarts.head()"
   ]
  },
  {
   "cell_type": "code",
   "execution_count": 28,
   "id": "e1973fce",
   "metadata": {},
   "outputs": [
    {
     "data": {
      "text/plain": [
       "0.6707"
      ]
     },
     "execution_count": 28,
     "metadata": {},
     "output_type": "execute_result"
    }
   ],
   "source": [
    "(poptarts.total_consumed < 17).mean()"
   ]
  },
  {
   "cell_type": "code",
   "execution_count": null,
   "id": "055f19ec",
   "metadata": {},
   "outputs": [],
   "source": []
  },
  {
   "cell_type": "code",
   "execution_count": null,
   "id": "c70ff394",
   "metadata": {},
   "outputs": [],
   "source": [
    "# 5 Compare Heights\n",
    "\n",
    "# Men have an average height of 178 cm and standard deviation of 8cm.\n",
    "# Women have a mean of 170, sd = 6cm.\n",
    "# Since you have means and standard deviations, you can use np.random.normal to generate observations.\n",
    "# If a man and woman are chosen at random, what is the likelihood the woman is taller than the man?"
   ]
  },
  {
   "cell_type": "code",
   "execution_count": 29,
   "id": "9b84836e",
   "metadata": {},
   "outputs": [
    {
     "data": {
      "text/plain": [
       "0.21061"
      ]
     },
     "execution_count": 29,
     "metadata": {},
     "output_type": "execute_result"
    }
   ],
   "source": [
    "m_heights = np.random.normal(178, 8, size=100_000)\n",
    "f_heights = np.random.normal(170, 6, size=100_000)\n",
    "(f_heights > m_heights).mean()"
   ]
  },
  {
   "cell_type": "code",
   "execution_count": null,
   "id": "d5a9b00c",
   "metadata": {},
   "outputs": [],
   "source": []
  },
  {
   "cell_type": "code",
   "execution_count": null,
   "id": "7a0c5622",
   "metadata": {},
   "outputs": [],
   "source": [
    "# 6 When installing anaconda on a student's computer, there's a 1 in 250 chance that the download is corrupted and \n",
    "# the installation fails. What are the odds that after having 50 students download anaconda, \n",
    "# no one has an installation issue? 100 students?\n",
    "\n",
    "\n"
   ]
  },
  {
   "cell_type": "code",
   "execution_count": 31,
   "id": "07fd6e3c",
   "metadata": {},
   "outputs": [
    {
     "data": {
      "text/plain": [
       "0.81794"
      ]
     },
     "execution_count": 31,
     "metadata": {},
     "output_type": "execute_result"
    }
   ],
   "source": [
    "n_simulations = 100_000\n",
    "n_trials = 50\n",
    "\n",
    "installations = np.random.choice([0,1], p=[0.004, 0.996], size=(n_simulations, n_trials))\n",
    "(installations.sum(axis=1) == 50).mean()"
   ]
  },
  {
   "cell_type": "code",
   "execution_count": null,
   "id": "692b7e4d",
   "metadata": {},
   "outputs": [],
   "source": []
  },
  {
   "cell_type": "code",
   "execution_count": 32,
   "id": "c32cdddd",
   "metadata": {},
   "outputs": [
    {
     "data": {
      "text/plain": [
       "0.67356"
      ]
     },
     "execution_count": 32,
     "metadata": {},
     "output_type": "execute_result"
    }
   ],
   "source": [
    "n_simulations = 100_000\n",
    "n_trials = 100\n",
    "\n",
    "installations = np.random.choice([0,1], p=[0.004, 0.996], size=(n_simulations, n_trials))\n",
    "(installations.sum(axis=1) == 100).mean()"
   ]
  },
  {
   "cell_type": "code",
   "execution_count": null,
   "id": "c5772172",
   "metadata": {},
   "outputs": [],
   "source": []
  },
  {
   "cell_type": "code",
   "execution_count": null,
   "id": "a6e28bfa",
   "metadata": {},
   "outputs": [],
   "source": [
    "# What is the probability that we observe an installation issue within the first 150 students that download anaconda?\n"
   ]
  },
  {
   "cell_type": "code",
   "execution_count": 33,
   "id": "04348f6b",
   "metadata": {},
   "outputs": [
    {
     "data": {
      "text/plain": [
       "0.5491"
      ]
     },
     "execution_count": 33,
     "metadata": {},
     "output_type": "execute_result"
    }
   ],
   "source": [
    "n_simulations = 100_000\n",
    "n_trials = 150\n",
    "\n",
    "installations = np.random.choice([0,1], p=[0.004, 0.996], size=(n_simulations, n_trials))\n",
    "(installations.sum(axis=1) == 150).mean()"
   ]
  },
  {
   "cell_type": "code",
   "execution_count": null,
   "id": "8847b643",
   "metadata": {},
   "outputs": [],
   "source": []
  },
  {
   "cell_type": "code",
   "execution_count": null,
   "id": "173bf5aa",
   "metadata": {},
   "outputs": [],
   "source": [
    "# How likely is it that 450 students all download anaconda without an issue?"
   ]
  },
  {
   "cell_type": "code",
   "execution_count": 34,
   "id": "d66cde81",
   "metadata": {},
   "outputs": [
    {
     "data": {
      "text/plain": [
       "0.16425"
      ]
     },
     "execution_count": 34,
     "metadata": {},
     "output_type": "execute_result"
    }
   ],
   "source": [
    "n_simulations = 100_000\n",
    "n_trials = 450\n",
    "\n",
    "installations = np.random.choice([0,1], p=[0.004, 0.996], size=(n_simulations, n_trials))\n",
    "(installations.sum(axis=1) == 450).mean()"
   ]
  },
  {
   "cell_type": "code",
   "execution_count": null,
   "id": "32046333",
   "metadata": {},
   "outputs": [],
   "source": []
  },
  {
   "cell_type": "code",
   "execution_count": null,
   "id": "dc7f820d",
   "metadata": {},
   "outputs": [],
   "source": [
    "#7 There's a 70% chance on any given day that there will be at least one food truck at Travis Park. \n",
    "# However, you haven't seen a food truck there in 3 days. How unlikely is this?"
   ]
  },
  {
   "cell_type": "code",
   "execution_count": 36,
   "id": "dc1a6997",
   "metadata": {},
   "outputs": [
    {
     "data": {
      "text/plain": [
       "0.0266"
      ]
     },
     "execution_count": 36,
     "metadata": {},
     "output_type": "execute_result"
    }
   ],
   "source": [
    "n_simulations = 100_000\n",
    "n_trials = 3\n",
    "\n",
    "food_truck = np.random.choice([1,0], size=(n_simulations, n_trials), p=[.7, .3])\n",
    "(food_truck.sum(axis=1) == 0).mean()"
   ]
  },
  {
   "cell_type": "code",
   "execution_count": null,
   "id": "04056ce0",
   "metadata": {},
   "outputs": [],
   "source": []
  },
  {
   "cell_type": "code",
   "execution_count": null,
   "id": "7042ec5e",
   "metadata": {},
   "outputs": [],
   "source": [
    "# How likely is it that a food truck will show up sometime this week?"
   ]
  },
  {
   "cell_type": "code",
   "execution_count": 51,
   "id": "c435d0ef",
   "metadata": {},
   "outputs": [
    {
     "data": {
      "text/plain": [
       "0.90992"
      ]
     },
     "execution_count": 51,
     "metadata": {},
     "output_type": "execute_result"
    }
   ],
   "source": [
    "n_simulations = 100_000\n",
    "n_trials = 2\n",
    "\n",
    "food_truck = np.random.choice([1,0], size=(n_simulations, n_trials), p=[.7, .3])\n",
    "(food_truck.sum(axis=1) > 0).mean()"
   ]
  },
  {
   "cell_type": "code",
   "execution_count": null,
   "id": "38296615",
   "metadata": {},
   "outputs": [],
   "source": []
  },
  {
   "cell_type": "code",
   "execution_count": 52,
   "id": "020e4cb1",
   "metadata": {},
   "outputs": [
    {
     "data": {
      "text/plain": [
       "0.99728"
      ]
     },
     "execution_count": 52,
     "metadata": {},
     "output_type": "execute_result"
    }
   ],
   "source": [
    "n_simulations = 100_000\n",
    "n_trials = 5\n",
    "\n",
    "food_truck = np.random.choice([1,0], size=(n_simulations, n_trials), p=[.7, .3])\n",
    "(food_truck.sum(axis=1) > 0).mean()"
   ]
  },
  {
   "cell_type": "code",
   "execution_count": null,
   "id": "b7d35711",
   "metadata": {},
   "outputs": [],
   "source": []
  },
  {
   "cell_type": "code",
   "execution_count": null,
   "id": "9d4ac7ba",
   "metadata": {},
   "outputs": [],
   "source": []
  },
  {
   "cell_type": "code",
   "execution_count": null,
   "id": "e18995da",
   "metadata": {},
   "outputs": [],
   "source": [
    "#8 If 23 people are in the same room, what are the odds that two of them share a birthday? What if it's 20 people? 40?"
   ]
  },
  {
   "cell_type": "code",
   "execution_count": 55,
   "id": "910b0819",
   "metadata": {},
   "outputs": [
    {
     "data": {
      "text/plain": [
       "0.50712"
      ]
     },
     "execution_count": 55,
     "metadata": {},
     "output_type": "execute_result"
    }
   ],
   "source": [
    "n_rows = 100_000\n",
    "n_cols = 23 # to represent 23 individuals\n",
    "\n",
    "birthdays = np.random.choice(range(365), size=(n_rows, n_cols))\n",
    "birthdays = pd.DataFrame(birthdays)\n",
    "birthdays[\"n_unique\"] = birthdays.nunique(axis=1)\n",
    "\n",
    "# What's the proportion of rows where we have multiple shared days\n",
    "(birthdays.n_unique != 23).mean()\n"
   ]
  },
  {
   "cell_type": "code",
   "execution_count": null,
   "id": "9616f7f2",
   "metadata": {},
   "outputs": [],
   "source": []
  },
  {
   "cell_type": "code",
   "execution_count": 53,
   "id": "335d83ad",
   "metadata": {},
   "outputs": [
    {
     "data": {
      "text/plain": [
       "0.41256"
      ]
     },
     "execution_count": 53,
     "metadata": {},
     "output_type": "execute_result"
    }
   ],
   "source": [
    "n_rows = 100_000\n",
    "n_cols = 20 \n",
    "\n",
    "birthdays = np.random.choice(range(365), size=(n_rows, n_cols))\n",
    "birthdays = pd.DataFrame(birthdays)\n",
    "birthdays[\"n_unique\"] = birthdays.nunique(axis=1)\n",
    "\n",
    "# What's the proportion of rows where we have multiple shared days\n",
    "(birthdays.n_unique != 20).mean()\n"
   ]
  },
  {
   "cell_type": "code",
   "execution_count": null,
   "id": "e48fc016",
   "metadata": {},
   "outputs": [],
   "source": []
  },
  {
   "cell_type": "code",
   "execution_count": 54,
   "id": "849d23b9",
   "metadata": {},
   "outputs": [
    {
     "data": {
      "text/plain": [
       "0.89054"
      ]
     },
     "execution_count": 54,
     "metadata": {},
     "output_type": "execute_result"
    }
   ],
   "source": [
    "n_rows = 100_000\n",
    "n_cols = 40 \n",
    "\n",
    "birthdays = np.random.choice(range(365), size=(n_rows, n_cols))\n",
    "birthdays = pd.DataFrame(birthdays)\n",
    "birthdays[\"n_unique\"] = birthdays.nunique(axis=1)\n",
    "\n",
    "# What's the proportion of rows where we have multiple shared days\n",
    "(birthdays.n_unique != 40).mean()\n"
   ]
  },
  {
   "cell_type": "code",
   "execution_count": null,
   "id": "d2f3694f",
   "metadata": {},
   "outputs": [],
   "source": []
  }
 ],
 "metadata": {
  "kernelspec": {
   "display_name": "Python 3 (ipykernel)",
   "language": "python",
   "name": "python3"
  },
  "language_info": {
   "codemirror_mode": {
    "name": "ipython",
    "version": 3
   },
   "file_extension": ".py",
   "mimetype": "text/x-python",
   "name": "python",
   "nbconvert_exporter": "python",
   "pygments_lexer": "ipython3",
   "version": "3.9.12"
  }
 },
 "nbformat": 4,
 "nbformat_minor": 5
}
