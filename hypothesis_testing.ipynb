{
 "cells": [
  {
   "cell_type": "code",
   "execution_count": null,
   "id": "ae58b692",
   "metadata": {},
   "outputs": [],
   "source": [
    "# Has the network latency gone up since we switched internet service providers?"
   ]
  },
  {
   "cell_type": "markdown",
   "id": "597386f6",
   "metadata": {},
   "source": [
    "H0 = The network latency has not changed since we switched internet service providers\n",
    "\n",
    "H1 = The network latency has increased since we switched internet service providers\n",
    "\n",
    "\n",
    "True Positive = determine the network latency has increased and it has\n",
    "\n",
    "True Negative = determine the network latency has stayed the same or decreased and it has\n",
    "\n",
    "\n",
    "Type I error = determine the network latency has increased when it actually stayed the same or decreased\n",
    "\n",
    "Type II error = determine the network latency has decreaded or stayed the same when it actually hass increased\n"
   ]
  },
  {
   "cell_type": "code",
   "execution_count": null,
   "id": "5aaf440e",
   "metadata": {},
   "outputs": [],
   "source": []
  },
  {
   "cell_type": "code",
   "execution_count": null,
   "id": "2af1efa1",
   "metadata": {},
   "outputs": [],
   "source": [
    "# Is the website redesign any good?"
   ]
  },
  {
   "cell_type": "markdown",
   "id": "ffe34a79",
   "metadata": {},
   "source": [
    "H0 = There is no change in daily website visits or visits have decreased since the redesign\n",
    "\n",
    "H1 = There has been an increase in website visits since redesign\n",
    "\n",
    "\n",
    "True Positive = detemine the number of daily visits has increased and it has\n",
    "\n",
    "True Negative = determine the number of daily visits has stayed the same or decreased and it has\n",
    "\n",
    "\n",
    "Type I error = determine the number of daily visits has increased when it has actually stayed the same or decrease\n",
    "\n",
    "Type II error = detremine the number of daily visits has stayed the same or decreased when it actually increased"
   ]
  },
  {
   "cell_type": "code",
   "execution_count": null,
   "id": "fffca82d",
   "metadata": {},
   "outputs": [],
   "source": []
  },
  {
   "cell_type": "code",
   "execution_count": null,
   "id": "5385a736",
   "metadata": {},
   "outputs": [],
   "source": [
    "# Is our television ad driving more sales?"
   ]
  },
  {
   "cell_type": "markdown",
   "id": "79218d4c",
   "metadata": {},
   "source": [
    "H0 = Sales are not greater with new ad\n",
    "\n",
    "H1 = Sales are greater with new ad\n",
    "\n",
    "\n",
    "True Positive = determine the sales have increased and they have\n",
    "\n",
    "True Negative = determine the sales have decreaed or stayed the same and they have\n",
    "\n",
    "\n",
    "Type I error = detrmine the sales have increased when they decreased or remained the same\n",
    "\n",
    "Type II error = determine the sales have remained the same or decreased when they have actually increased"
   ]
  }
 ],
 "metadata": {
  "kernelspec": {
   "display_name": "Python 3 (ipykernel)",
   "language": "python",
   "name": "python3"
  },
  "language_info": {
   "codemirror_mode": {
    "name": "ipython",
    "version": 3
   },
   "file_extension": ".py",
   "mimetype": "text/x-python",
   "name": "python",
   "nbconvert_exporter": "python",
   "pygments_lexer": "ipython3",
   "version": "3.9.12"
  }
 },
 "nbformat": 4,
 "nbformat_minor": 5
}
